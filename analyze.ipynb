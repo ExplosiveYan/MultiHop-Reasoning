{
 "cells": [
  {
   "cell_type": "code",
   "execution_count": null,
   "metadata": {},
   "outputs": [],
   "source": [
    "import pandas as pd\n",
    "import networkx as nx\n",
    "import numpy as np\n",
    "import matplotlib.pyplot as plt\n",
    "\n",
    "file_path = 'data/FB15K-237/raw.csv'\n",
    "dev_file = 'data/FB15K-237/dev.triples'\n",
    "test_file = 'data/FB15K-237/test.triples'\n",
    "train_file = 'data/FB15K-237/train.triples'"
   ]
  },
  {
   "cell_type": "markdown",
   "metadata": {},
   "source": [
    "# 作图 实体的连接数"
   ]
  },
  {
   "cell_type": "code",
   "execution_count": null,
   "metadata": {},
   "outputs": [],
   "source": [
    "with open(train_file) as f:\n",
    "    entity_list = []\n",
    "    for line in f:\n",
    "        # print(line.split( )[0])\n",
    "        entity_list.append(line.split()[0])\n",
    "entity_list_set = set(entity_list)\n",
    "print(type(entity_list_set))\n",
    "entity_list_set_num = []\n",
    "for entity in entity_list_set:\n",
    "    entity_list_set_num.append(entity_list.count(entity))\n",
    "\n",
    "entity_list_set_num.sort(reverse=True)\n",
    "print(entity_list_set_num)\n",
    "number_list = list(range(len(entity_list_set)))\n",
    "numer_list\n"
   ]
  },
  {
   "cell_type": "code",
   "execution_count": null,
   "metadata": {},
   "outputs": [],
   "source": [
    "\n",
    "fig = plt.figure(figsize=(15, 10))\n",
    "plt.bar(number_list[:2000], entity_list_set_num[:2000])\n",
    "\n",
    "plt.savefig('Graph/entity_num_2000.png', dpi=800)\n",
    "plt.show()"
   ]
  },
  {
   "cell_type": "code",
   "execution_count": null,
   "metadata": {},
   "outputs": [],
   "source": []
  }
 ],
 "metadata": {
  "kernelspec": {
   "display_name": "Python 3",
   "language": "python",
   "name": "python3"
  },
  "language_info": {
   "codemirror_mode": {
    "name": "ipython",
    "version": 3
   },
   "file_extension": ".py",
   "mimetype": "text/x-python",
   "name": "python",
   "nbconvert_exporter": "python",
   "pygments_lexer": "ipython3",
   "version": "3.8.3"
  }
 },
 "nbformat": 4,
 "nbformat_minor": 4
}
